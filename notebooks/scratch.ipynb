{
 "cells": [
  {
   "cell_type": "code",
   "execution_count": null,
   "metadata": {},
   "outputs": [],
   "source": [
    "import matplotlib.pyplot as plt\n",
    "\n",
    "import numpy as np\n",
    "import pandas as pd\n",
    "from sklearn.linear_model import LinearRegression\n",
    "from sklearn.preprocessing import PolynomialFeatures\n",
    "\n",
    "import seaborn as sns\n",
    "\n",
    "# Add a Dartmouth-y color theme\n",
    "import matplotlib as mpl\n",
    "dartmouth_colors = [\"#00693E\", \"#12312B\", \"#C3DD88\", \"#6EAA8D\", \"#797979\", \"#EBF3EF\"]\n",
    "mpl.rcParams.update({\n",
    "                        'figure.facecolor': \"#EBF3EF\",\n",
    "                        'figure.figsize': [7.50, 3.50],\n",
    "                        'axes.prop_cycle': mpl.cycler(color=dartmouth_colors),\n",
    "                        'axes.facecolor': \"#FFFFFF\",\n",
    "                        'axes.labelcolor': '#12312B',\n",
    "                        'text.color': '#12312B'\n",
    "                    })\n",
    "\n",
    "%config InlineBackend.figure_formats = ['svg']\n"
   ]
  },
  {
   "cell_type": "code",
   "execution_count": null,
   "metadata": {},
   "outputs": [],
   "source": [
    "penguins = sns.load_dataset('penguins').dropna()\n",
    "penguins.head()"
   ]
  },
  {
   "cell_type": "code",
   "execution_count": null,
   "metadata": {},
   "outputs": [],
   "source": [
    "plt.figure(figsize=(5, 5))\n",
    "sns.lmplot(penguins, x='flipper_length_mm', y='body_mass_g', fit_reg=False)\n",
    "plt.xlabel('Flipper length [mm]')\n",
    "plt.ylabel('Body mass [g]')"
   ]
  },
  {
   "cell_type": "code",
   "execution_count": null,
   "metadata": {},
   "outputs": [],
   "source": [
    "plt.figure(figsize=(5, 5))\n",
    "sns.lmplot(penguins, x='flipper_length_mm', y='body_mass_g', ci=None)\n",
    "plt.xlabel('Flipper length [mm]')\n",
    "plt.ylabel('Body mass [g]')"
   ]
  },
  {
   "cell_type": "code",
   "execution_count": null,
   "metadata": {},
   "outputs": [],
   "source": [
    "n = 2\n",
    "\n",
    "plt.figure(figsize=(5, 5))\n",
    "poly = PolynomialFeatures(degree=n)\n",
    "X_poly = poly.fit_transform(penguins.flipper_length_mm.values.reshape(-1, 1))\n",
    "lr = LinearRegression().fit(X_poly, penguins.body_mass_g)\n",
    "y_pred = lr.predict(X_poly)\n",
    "\n",
    "plt.figure(figsize=(5, 5))\n",
    "sns.lmplot(penguins, x='flipper_length_mm', y='body_mass_g', fit_reg=False)\n",
    "plt.xlabel('Flipper length [mm]')\n",
    "plt.ylabel('Body mass [g]')\n",
    "sns.lineplot(x=penguins.flipper_length_mm, y=y_pred, linestyle='-.')"
   ]
  },
  {
   "cell_type": "code",
   "execution_count": null,
   "metadata": {},
   "outputs": [],
   "source": [
    "n = 5\n",
    "\n",
    "plt.figure(figsize=(5, 5))\n",
    "poly = PolynomialFeatures(degree=n)\n",
    "X_poly = poly.fit_transform(penguins.flipper_length_mm.values.reshape(-1, 1))\n",
    "lr = LinearRegression().fit(X_poly, penguins.body_mass_g)\n",
    "y_pred = lr.predict(X_poly)\n",
    "\n",
    "plt.figure(figsize=(5, 5))\n",
    "sns.lmplot(penguins, x='flipper_length_mm', y='body_mass_g', fit_reg=False)\n",
    "plt.xlabel('Flipper length [mm]')\n",
    "plt.ylabel('Body mass [g]')\n",
    "sns.lineplot(x=penguins.flipper_length_mm, y=y_pred, linestyle='-.')"
   ]
  },
  {
   "cell_type": "code",
   "execution_count": null,
   "metadata": {},
   "outputs": [],
   "source": [
    "%matplotlib widget\n",
    "fig = plt.figure(figsize=(5,5))\n",
    "ax = fig.add_subplot(projection='3d')\n",
    "ax.scatter(penguins.bill_length_mm, penguins.flipper_length_mm, penguins.body_mass_g)\n",
    "\n",
    "ax.set_xlabel('Bill length [mm]')\n",
    "ax.set_ylabel('Flipper length [mm]')\n",
    "ax.set_zlabel('Body mass [g]')\n",
    "fig.tight_layout()\n",
    "\n",
    "%matplotlib inline"
   ]
  },
  {
   "cell_type": "code",
   "execution_count": null,
   "metadata": {},
   "outputs": [],
   "source": [
    "%matplotlib widget\n",
    "X = penguins[['bill_length_mm', 'flipper_length_mm']]\n",
    "lr = LinearRegression().fit(X, penguins.body_mass_g)\n",
    "predicted = lr.predict(X)\n",
    "\n",
    "fig = plt.figure(figsize=(5,5))\n",
    "ax = fig.add_subplot(projection='3d')\n",
    "ax.scatter(penguins.bill_length_mm, penguins.flipper_length_mm, penguins.body_mass_g)\n",
    "\n",
    "bills, flippers = np.meshgrid(penguins.bill_length_mm, penguins.flipper_length_mm)\n",
    "mass = lr.intercept_ + lr.coef_[0] * bills + lr.coef_[1] * flippers\n",
    "\n",
    "ax.plot_surface(bills, flippers, mass, rstride=40)\n",
    "ax.set_xlabel('Bill length [mm]')\n",
    "ax.set_ylabel('Flipper length [mm]')\n",
    "ax.set_zlabel('Body mass [g]')\n",
    "%matplotlib inline"
   ]
  },
  {
   "cell_type": "code",
   "execution_count": null,
   "metadata": {},
   "outputs": [],
   "source": [
    "# Get best fit\n",
    "lr = LinearRegression()\n",
    "\n",
    "lr.fit(penguins.flipper_length_mm.values.reshape(-1, 1), penguins.body_mass_g)\n",
    "beta0 = lr.intercept_\n",
    "beta1 = lr.coef_[0]\n",
    "print(f\"𝛽_0 = {beta0}, 𝛽_1 = {beta1}\")\n",
    "\n",
    "n = 20\n",
    "\n",
    "def calculate_loss(b0, b1):\n",
    "    y_pred = b0 + b1 * penguins.flipper_length_mm\n",
    "    return sum(abs(penguins.body_mass_g - y_pred))\n",
    "\n",
    "b0 = np.linspace(beta0//2, beta0*2, n)\n",
    "b1 = np.linspace(beta1//2, beta1*2, n)\n",
    "\n",
    "fig = plt.figure(figsize=(5, 5))\n",
    "plt.subplot(2, 1, 1)\n",
    "plt.scatter(b0, [calculate_loss(bb0, beta1) for bb0 in b0])\n",
    "plt.subplot(2, 1, 2)\n",
    "plt.scatter(b1, [calculate_loss(beta0, bb1) for bb1 in b1])\n",
    "plt.tight_layout(pad=1.2)"
   ]
  },
  {
   "cell_type": "code",
   "execution_count": null,
   "metadata": {},
   "outputs": [],
   "source": [
    "bb0, bb1 = np.meshgrid(b0, b1)\n",
    "error = np.zeros_like(bb0)\n",
    "for i in range(bb0.shape[0]):\n",
    "    for j in range(bb0.shape[1]):\n",
    "        error[i,j] = calculate_loss(bb0[i,j], bb1[i,j])\n",
    "\n",
    "fig = plt.figure(figsize =(14, 9))\n",
    "ax = plt.axes(projection ='3d')\n",
    "\n",
    "# Creating plot\n",
    "ax.scatter(bb0, bb1, error)\n",
    "ax.scatter(beta0, beta1, calculate_loss(beta0, beta1), marker='d', s=200)"
   ]
  },
  {
   "cell_type": "code",
   "execution_count": null,
   "metadata": {},
   "outputs": [],
   "source": [
    "lse = list()\n",
    "N = 10\n",
    "for n in range(1, N):\n",
    "    poly = PolynomialFeatures(degree=n)\n",
    "    X_poly = poly.fit_transform(penguins.flipper_length_mm.values.reshape(-1, 1))\n",
    "    lr = LinearRegression().fit(X_poly, penguins.body_mass_g)\n",
    "    y_pred = lr.predict(X_poly)\n",
    "    lse.append(sum(abs(y_pred - penguins.body_mass_g)))\n",
    "\n",
    "plt.figure(figsize=(5, 5))\n",
    "plt.plot(range(1, N), lse, '--o')\n",
    "plt.xlabel(\"Degree of polynomial\")\n",
    "plt.ylabel(\"Least-square error\")\n"
   ]
  },
  {
   "cell_type": "code",
   "execution_count": null,
   "metadata": {},
   "outputs": [],
   "source": [
    "# Create exponential data\n",
    "N = 20\n",
    "x = np.linspace(0, 10, N)\n",
    "y = 1 + x + x ** 2\n",
    "noise = np.random.normal(0,5,N)\n",
    "y += noise\n",
    "plt.figure(figsize=(5,5))\n",
    "plt.scatter(x, y)\n",
    "plt.xlabel('x')\n",
    "plt.xlabel('y')"
   ]
  },
  {
   "cell_type": "code",
   "execution_count": null,
   "metadata": {},
   "outputs": [],
   "source": [
    "underfitting = LinearRegression().fit(x.reshape(-1, 1), y).predict(x.reshape(-1, 1))\n",
    "plt.figure(figsize=(5,5))\n",
    "plt.scatter(x, y)\n",
    "plt.plot(x, underfitting, label='underfitting')\n",
    "plt.legend()"
   ]
  },
  {
   "cell_type": "code",
   "execution_count": null,
   "metadata": {},
   "outputs": [],
   "source": [
    "n = 2\n",
    "poly = PolynomialFeatures(degree=n)\n",
    "x_fine = np.linspace(0, 10, 10*N)\n",
    "X_poly = poly.fit_transform(x.reshape(-1, 1))\n",
    "X_poly_fine = poly.fit_transform(x_fine.reshape(-1, 1))\n",
    "\n",
    "good_fit = LinearRegression().fit(X_poly, y).predict(X_poly_fine)\n",
    "\n",
    "plt.figure(figsize=(5,5))\n",
    "plt.scatter(x, y)\n",
    "plt.plot(x, underfitting, label='underfitting')\n",
    "plt.plot(x_fine, good_fit, label='good fit')\n",
    "plt.legend()"
   ]
  },
  {
   "cell_type": "code",
   "execution_count": null,
   "metadata": {},
   "outputs": [],
   "source": [
    "n = 20\n",
    "poly = PolynomialFeatures(degree=n)\n",
    "X_poly = poly.fit_transform(x.reshape(-1, 1))\n",
    "X_poly_fine = poly.fit_transform(x_fine.reshape(-1, 1))\n",
    "\n",
    "overfitting = LinearRegression().fit(X_poly, y).predict(X_poly_fine)\n",
    "\n",
    "plt.figure(figsize=(5,5))\n",
    "plt.scatter(x, y)\n",
    "plt.plot(x, underfitting, label='underfitting')\n",
    "plt.plot(x_fine, good_fit, label='good_fit')\n",
    "plt.plot(x_fine, overfitting, label='overfitting')\n",
    "plt.legend()"
   ]
  },
  {
   "cell_type": "code",
   "execution_count": null,
   "metadata": {},
   "outputs": [],
   "source": [
    "# Plot sigmoid function\n",
    "\n",
    "x = np.linspace(-6, 6, 30)\n",
    "y = 1 / (1 + np.exp(-x))\n",
    "plt.figure(figsize=(5, 2.5))\n",
    "plt.plot(x, y)\n",
    "plt.grid()"
   ]
  },
  {
   "cell_type": "code",
   "execution_count": null,
   "metadata": {},
   "outputs": [],
   "source": []
  }
 ],
 "metadata": {
  "kernelspec": {
   "display_name": "Python 3",
   "language": "python",
   "name": "python3"
  },
  "language_info": {
   "codemirror_mode": {
    "name": "ipython",
    "version": 3
   },
   "file_extension": ".py",
   "mimetype": "text/x-python",
   "name": "python",
   "nbconvert_exporter": "python",
   "pygments_lexer": "ipython3",
   "version": "3.10.8"
  },
  "orig_nbformat": 4
 },
 "nbformat": 4,
 "nbformat_minor": 2
}
